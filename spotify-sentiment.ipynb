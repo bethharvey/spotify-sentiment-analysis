{
 "cells": [
  {
   "cell_type": "markdown",
   "metadata": {},
   "source": [
    "# Spotify Sentiment Analysis with Spacy and Spacytextblob\n",
    "\n",
    "### Beth Harvey\n",
    "\n",
    "The goal of this project is to use the Spotify API and Spotipy to get the titles of the top 5 songs from Spotify's Top Songs Global playlist, along with several Top Songs playlists for specific countries. The LyricsGenius API will be used to get the lyrics for each track, then sentiment analysis will be performend on the data using spaCy. Song data will be saved in JSON files, then sentiment analysis will be done using spacy and spacy text blob. \n",
    "\n",
    "The playlists are updated weekly and were accessed on August 4-5, 2023.\n",
    "\n",
    "NOTE: Several of the songs in these playlists contain explicit lyrics. Proceed with caution.\n",
    "\n",
    "\n",
    "Installations\n",
    "* pip install -U pip setuptools wheel\n",
    "* pip install -U spacy\n",
    "* python -m spacy download en_core_web_sm\n",
    "* pip install spotipy --upgrade\n",
    "* pip install lyricsgenius\n",
    "* pip install python-dotenv"
   ]
  },
  {
   "cell_type": "code",
   "execution_count": 1,
   "metadata": {},
   "outputs": [],
   "source": [
    "# Import and confirm necessary packages\n",
    "import json\n",
    "\n",
    "import requests\n",
    "import spacy\n",
    "import os\n",
    "from spacytextblob.spacytextblob import SpacyTextBlob\n",
    "import spotipy\n",
    "from spotipy.oauth2 import SpotifyClientCredentials\n",
    "import lyricsgenius\n",
    "from dotenv import load_dotenv\n",
    "\n",
    "# print('All prereqs installed.')\n",
    "# !pip list"
   ]
  },
  {
   "cell_type": "markdown",
   "metadata": {},
   "source": [
    "## API Credentials\n",
    "Following the Spotipy instructions at https://spotipy.readthedocs.io/en/2.22.1/ I saved my Spotify client ID, client secret, and redirect URI as environment variables. They need to be loaded in as variables so they are available for use."
   ]
  },
  {
   "cell_type": "code",
   "execution_count": 2,
   "metadata": {},
   "outputs": [],
   "source": [
    "# Read in environment variables\n",
    "load_dotenv()\n",
    "client_id = os.getenv('SPOTIPY_CLIENT_ID')\n",
    "client_secret = os.getenv('SPOTIPY_CLIENT_SECRET')\n",
    "redirect = os.getenv('SPOTIPY_REDIRECT_URI')\n",
    "genius_token = os.getenv('LYRICS_GENIUS_TOKEN')"
   ]
  },
  {
   "cell_type": "markdown",
   "metadata": {},
   "source": [
    "## Global Top Songs Playlist\n",
    "\n",
    "### Get Track Names"
   ]
  },
  {
   "cell_type": "code",
   "execution_count": 16,
   "metadata": {},
   "outputs": [],
   "source": [
    "# Define function to get a list of the top 5 songs from a playlist\n",
    "def get_top_five(playlist_uri):\n",
    "    # Initialize Spotipy object\n",
    "    spotify = spotipy.Spotify(auth_manager = SpotifyClientCredentials())\n",
    "    # Get details of top 5 songs from playlist\n",
    "    top_5_songs = spotify.playlist_tracks(playlist_uri, limit = 5)\n",
    "    # Get main artists and titles of top 5 tracks\n",
    "    top_5_tracks = []\n",
    "    full_names = []\n",
    "    for track in top_5_songs['items']:\n",
    "        track_artist= track['track']['artists'][0]['name']\n",
    "        full_track_name = track['track']['name']\n",
    "        full_names.append(full_track_name)\n",
    "            # Clean track names (better search results)\n",
    "        for name in full_names:\n",
    "            split_1 = name.split(' (')\n",
    "            split_2 = split_1[0].split(' [')\n",
    "            track_name = split_2[0]\n",
    "\n",
    "        track_info = (track_artist, track_name)\n",
    "        top_5_tracks.append(track_info)\n",
    "    return top_5_tracks"
   ]
  },
  {
   "cell_type": "code",
   "execution_count": 17,
   "metadata": {},
   "outputs": [
    {
     "name": "stdout",
     "output_type": "stream",
     "text": [
      "[('Jung Kook', 'Seven'), ('Myke Towers', 'LALA'), ('Travis Scott', 'MELTDOWN'), ('Billie Eilish', 'What Was I Made For?'), ('Travis Scott', 'FE!N')]\n"
     ]
    }
   ],
   "source": [
    "# Get names of top 5 tracks from Global Top Songs\n",
    "top_five_global = get_top_five('37i9dQZEVXbNG2KDcFcKOF')\n",
    "print(top_five_global)"
   ]
  },
  {
   "cell_type": "markdown",
   "metadata": {},
   "source": [
    "### Get Lyrics"
   ]
  },
  {
   "cell_type": "code",
   "execution_count": 18,
   "metadata": {},
   "outputs": [],
   "source": [
    "# Define function to get lyrics of a song and save as a JSON file\n",
    "def get_song_lyrics(track_name, track_artist):\n",
    "    # Initialize LyricsGenius object\n",
    "    genius = lyricsgenius.Genius(genius_token)\n",
    "    artist_details = genius.search_artist(track_artist, max_songs = 0)\n",
    "    song_details = artist_details.song(track_name)\n",
    "    song_lyrics = song_details.lyrics\n",
    "    file_name = f'{track_name}.json'\n",
    "    # Check to see if file already exists before creating new one (some songs are in multiple playlists)\n",
    "    if not os.path.exists(file_name):\n",
    "        with open(file_name, 'w') as file:\n",
    "            json.dump(song_lyrics, file)"
   ]
  },
  {
   "cell_type": "code",
   "execution_count": 19,
   "metadata": {},
   "outputs": [
    {
     "name": "stdout",
     "output_type": "stream",
     "text": [
      "Searching for songs by Jung Kook...\n",
      "\n",
      "Changing artist name to 'Jung Kook (정국)'\n",
      "Done. Found 0 songs.\n",
      "Searching for \"Seven\" by Jung Kook (정국)...\n",
      "Done.\n",
      "Searching for songs by Myke Towers...\n",
      "\n",
      "Done. Found 0 songs.\n",
      "Searching for \"LALA\" by Myke Towers...\n",
      "Done.\n",
      "Searching for songs by Travis Scott...\n",
      "\n",
      "Done. Found 0 songs.\n",
      "Searching for \"MELTDOWN\" by Travis Scott...\n",
      "Done.\n",
      "Searching for songs by Billie Eilish...\n",
      "\n",
      "Done. Found 0 songs.\n",
      "Searching for \"What Was I Made For?\" by Billie Eilish...\n",
      "Done.\n",
      "Searching for songs by Travis Scott...\n",
      "\n",
      "Done. Found 0 songs.\n",
      "Searching for \"FE!N\" by Travis Scott...\n",
      "Done.\n"
     ]
    }
   ],
   "source": [
    "# Save lyrics for global top 5 songs\n",
    "for artist, song in top_five_global:\n",
    "    get_song_lyrics(song, artist)"
   ]
  },
  {
   "cell_type": "markdown",
   "metadata": {},
   "source": [
    "### Sentiment Analysis"
   ]
  },
  {
   "cell_type": "code",
   "execution_count": 20,
   "metadata": {},
   "outputs": [],
   "source": [
    "def get_polarity_score(track_name):\n",
    "    file_name = f'{track_name}.json'\n",
    "    # Load lyrics from JSON file\n",
    "    with open(file_name, 'r') as file:\n",
    "        song_lyrics = json.load(file)\n",
    "    # Initialize spaCy object\n",
    "    nlp = spacy.load('en_core_web_sm')\n",
    "    nlp.add_pipe('spacytextblob')\n",
    "    # Apply sentiment analysis to lyrics\n",
    "    sentiment_analysis = nlp(song_lyrics)\n",
    "    # Get polarity score\n",
    "    polarity_score = sentiment_analysis._.blob.polarity\n",
    "    return polarity_score"
   ]
  },
  {
   "cell_type": "code",
   "execution_count": 22,
   "metadata": {},
   "outputs": [
    {
     "name": "stdout",
     "output_type": "stream",
     "text": [
      "[0.15595238095238093, 0.11666666666666665, -0.16178026834276832, 0.09930555555555556, -0.08304473304473305]\n"
     ]
    }
   ],
   "source": [
    "# Get polarity scores for Global Top Songs\n",
    "top_five_global_polarity = [get_polarity_score(song) for artist, song in top_five_global]\n",
    "print(top_five_global_polarity)"
   ]
  }
 ],
 "metadata": {
  "kernelspec": {
   "display_name": ".venv",
   "language": "python",
   "name": "python3"
  },
  "language_info": {
   "codemirror_mode": {
    "name": "ipython",
    "version": 3
   },
   "file_extension": ".py",
   "mimetype": "text/x-python",
   "name": "python",
   "nbconvert_exporter": "python",
   "pygments_lexer": "ipython3",
   "version": "3.11.2"
  },
  "orig_nbformat": 4
 },
 "nbformat": 4,
 "nbformat_minor": 2
}
