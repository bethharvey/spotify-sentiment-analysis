{
 "cells": [
  {
   "cell_type": "markdown",
   "metadata": {},
   "source": [
    "# Spotify Sentiment Analysis with Spacy and Spacytextblob\n",
    "\n",
    "### Beth Harvey\n",
    "\n",
    "The goal of this project is to use the Spotify API and Spotipy to get the titles of the top 5 songs from Spotify's Top Songs Global playlist, along with several Top Songs playlists for various countries where English is the primary language (only the English NLP package is used). The LyricsGenius API will be used to get the lyrics for each track, then sentiment analysis will be performend on the data using spaCy. Song data will be saved in JSON files, then sentiment analysis will be done using spacy and spacy text blob. \n",
    "\n",
    "The playlists are updated weekly and were accessed on August 4-6, 2023.\n",
    "\n",
    "NOTE: Several of the songs in these playlists contain explicit lyrics. Proceed with caution.\n",
    "\n",
    "\n",
    "Installations\n",
    "* pip install -U pip setuptools wheel\n",
    "* pip install -U spacy\n",
    "* python -m spacy download en_core_web_sm\n",
    "* pip install spotipy --upgrade\n",
    "* pip install lyricsgenius\n",
    "* pip install python-dotenv\n",
    "* pip install pandas\n",
    "* pip install matplotlib"
   ]
  },
  {
   "cell_type": "code",
   "execution_count": 85,
   "metadata": {},
   "outputs": [],
   "source": [
    "# Import and confirm necessary packages\n",
    "import json\n",
    "\n",
    "import requests\n",
    "import spacy\n",
    "import os\n",
    "from spacytextblob.spacytextblob import SpacyTextBlob\n",
    "import spotipy\n",
    "from spotipy.oauth2 import SpotifyClientCredentials\n",
    "import lyricsgenius\n",
    "from dotenv import load_dotenv\n",
    "import pandas as pd\n",
    "import matplotlib.pyplot as plt\n",
    "import numpy as np\n",
    "\n",
    "# print('All prereqs installed.')\n",
    "# !pip list"
   ]
  },
  {
   "cell_type": "markdown",
   "metadata": {},
   "source": [
    "## API Credentials\n",
    "Following the Spotipy instructions at https://spotipy.readthedocs.io/en/2.22.1/ I saved my Spotify client ID, client secret, and redirect URI as environment variables. They need to be loaded in as variables so they are available for use."
   ]
  },
  {
   "cell_type": "code",
   "execution_count": 2,
   "metadata": {},
   "outputs": [],
   "source": [
    "# Read in environment variables\n",
    "load_dotenv()\n",
    "client_id = os.getenv('SPOTIPY_CLIENT_ID')\n",
    "client_secret = os.getenv('SPOTIPY_CLIENT_SECRET')\n",
    "redirect = os.getenv('SPOTIPY_REDIRECT_URI')\n",
    "genius_token = os.getenv('LYRICS_GENIUS_TOKEN')"
   ]
  },
  {
   "cell_type": "markdown",
   "metadata": {},
   "source": [
    "## Define Functions\n",
    "\n",
    "### Get Top Five Tracks From Spotify Playlist Using Spotipy"
   ]
  },
  {
   "cell_type": "code",
   "execution_count": 3,
   "metadata": {},
   "outputs": [],
   "source": [
    "# Define function to get a list of the top 5 songs from a playlist\n",
    "def get_top_five(playlist_uri):\n",
    "    # Initialize Spotipy object\n",
    "    spotify = spotipy.Spotify(auth_manager = SpotifyClientCredentials())\n",
    "    # Get details of top 5 songs from playlist\n",
    "    top_5_songs = spotify.playlist_tracks(playlist_uri, limit = 5)\n",
    "    # Get main artists and titles of top 5 tracks\n",
    "    top_5_tracks = []\n",
    "    full_names = []\n",
    "    for track in top_5_songs['items']:\n",
    "        track_artist= track['track']['artists'][0]['name']\n",
    "        full_track_name = track['track']['name']\n",
    "        full_names.append(full_track_name)\n",
    "            # Clean track names (better search results)\n",
    "        for name in full_names:\n",
    "            split_1 = name.split(' (')\n",
    "            split_2 = split_1[0].split(' [')\n",
    "            track_name = split_2[0]\n",
    "\n",
    "        track_info = (track_artist, track_name)\n",
    "        top_5_tracks.append(track_info)\n",
    "    return top_5_tracks"
   ]
  },
  {
   "cell_type": "markdown",
   "metadata": {},
   "source": [
    "### Get Song Lyrics From LyricsGenius"
   ]
  },
  {
   "cell_type": "code",
   "execution_count": 4,
   "metadata": {},
   "outputs": [],
   "source": [
    "# Define function to get lyrics of a song and save as a JSON file\n",
    "def get_song_lyrics(track_name, track_artist):\n",
    "    # Initialize LyricsGenius object\n",
    "    genius = lyricsgenius.Genius(genius_token)\n",
    "    song_details = genius.search_song(title = track_name, artist = track_artist)\n",
    "    song_lyrics = song_details.lyrics\n",
    "    file_name = f'{track_name}.json'\n",
    "    # Check to see if file already exists before creating new one (some songs are in multiple playlists)\n",
    "    if not os.path.exists(file_name):\n",
    "        with open(file_name, 'w') as file:\n",
    "            json.dump(song_lyrics, file)"
   ]
  },
  {
   "cell_type": "markdown",
   "metadata": {},
   "source": [
    "### Get Polarity Score For Lyrics Using spaCy"
   ]
  },
  {
   "cell_type": "code",
   "execution_count": 5,
   "metadata": {},
   "outputs": [],
   "source": [
    "def get_polarity_score(track_name):\n",
    "    file_name = f'{track_name}.json'\n",
    "    # Load lyrics from JSON file\n",
    "    with open(file_name, 'r') as file:\n",
    "        song_lyrics = json.load(file)\n",
    "    # Initialize spaCy object\n",
    "    nlp = spacy.load('en_core_web_sm')\n",
    "    nlp.add_pipe('spacytextblob')\n",
    "    # Apply sentiment analysis to lyrics\n",
    "    sentiment_analysis = nlp(song_lyrics)\n",
    "    # Get polarity score\n",
    "    polarity_score = sentiment_analysis._.blob.polarity\n",
    "    return polarity_score"
   ]
  },
  {
   "cell_type": "markdown",
   "metadata": {},
   "source": [
    "## Global Top Songs Playlist\n",
    "\n",
    "### Get Track Names"
   ]
  },
  {
   "cell_type": "code",
   "execution_count": 6,
   "metadata": {},
   "outputs": [
    {
     "name": "stdout",
     "output_type": "stream",
     "text": [
      "[('Jung Kook', 'Seven'), ('Myke Towers', 'LALA'), ('Travis Scott', 'MELTDOWN'), ('Billie Eilish', 'What Was I Made For?'), ('Travis Scott', 'FE!N')]\n"
     ]
    }
   ],
   "source": [
    "# Get names of top 5 tracks from Global Top Songs\n",
    "top_five_global = get_top_five('37i9dQZEVXbNG2KDcFcKOF')\n",
    "print(top_five_global)"
   ]
  },
  {
   "cell_type": "markdown",
   "metadata": {},
   "source": [
    "### Get Lyrics"
   ]
  },
  {
   "cell_type": "code",
   "execution_count": 7,
   "metadata": {},
   "outputs": [
    {
     "name": "stdout",
     "output_type": "stream",
     "text": [
      "Searching for \"Seven\" by Jung Kook...\n",
      "Done.\n",
      "Searching for \"LALA\" by Myke Towers...\n",
      "Done.\n",
      "Searching for \"MELTDOWN\" by Travis Scott...\n",
      "Done.\n",
      "Searching for \"What Was I Made For?\" by Billie Eilish...\n",
      "Done.\n",
      "Searching for \"FE!N\" by Travis Scott...\n",
      "Done.\n"
     ]
    }
   ],
   "source": [
    "# Save lyrics for global top 5 songs\n",
    "for artist, song in top_five_global:\n",
    "    get_song_lyrics(song, artist)"
   ]
  },
  {
   "cell_type": "markdown",
   "metadata": {},
   "source": [
    "### Sentiment Analysis"
   ]
  },
  {
   "cell_type": "code",
   "execution_count": 8,
   "metadata": {},
   "outputs": [
    {
     "name": "stdout",
     "output_type": "stream",
     "text": [
      "[0.15595238095238093, 0.11666666666666665, -0.16178026834276832, 0.09930555555555556, -0.08304473304473305]\n"
     ]
    }
   ],
   "source": [
    "# Get polarity scores for Global Top Songs\n",
    "top_five_global_polarity = [get_polarity_score(song) for artist, song in top_five_global]\n",
    "print(top_five_global_polarity)"
   ]
  },
  {
   "cell_type": "markdown",
   "metadata": {},
   "source": [
    "## Top Songs USA\n",
    "\n",
    "### Get Track Names"
   ]
  },
  {
   "cell_type": "code",
   "execution_count": 9,
   "metadata": {},
   "outputs": [
    {
     "name": "stdout",
     "output_type": "stream",
     "text": [
      "[('Travis Scott', 'MELTDOWN'), ('Travis Scott', 'FE!N'), ('Travis Scott', 'I KNOW ?'), ('Travis Scott', 'HYAENA'), ('Gunna', 'fukumean')]\n"
     ]
    }
   ],
   "source": [
    "top_five_usa = get_top_five('37i9dQZEVXbLp5XoPON0wI')\n",
    "print(top_five_usa)"
   ]
  },
  {
   "cell_type": "markdown",
   "metadata": {},
   "source": [
    "### Get Lyrics"
   ]
  },
  {
   "cell_type": "code",
   "execution_count": 10,
   "metadata": {},
   "outputs": [
    {
     "name": "stdout",
     "output_type": "stream",
     "text": [
      "Searching for \"MELTDOWN\" by Travis Scott...\n",
      "Done.\n",
      "Searching for \"FE!N\" by Travis Scott...\n",
      "Done.\n",
      "Searching for \"I KNOW ?\" by Travis Scott...\n",
      "Done.\n",
      "Searching for \"HYAENA\" by Travis Scott...\n",
      "Done.\n",
      "Searching for \"fukumean\" by Gunna...\n",
      "Done.\n"
     ]
    }
   ],
   "source": [
    "for artist, song in top_five_usa:\n",
    "    get_song_lyrics(song, artist)"
   ]
  },
  {
   "cell_type": "markdown",
   "metadata": {},
   "source": [
    "### Sentiment Analysis"
   ]
  },
  {
   "cell_type": "code",
   "execution_count": 11,
   "metadata": {},
   "outputs": [
    {
     "name": "stdout",
     "output_type": "stream",
     "text": [
      "[-0.16178026834276832, -0.08304473304473305, 0.0040294976341487985, 0.10182884748102138, -0.000502953119232195]\n"
     ]
    }
   ],
   "source": [
    "top_five_usa_polarity = [get_polarity_score(song) for artist, song in top_five_usa]\n",
    "print(top_five_usa_polarity)"
   ]
  },
  {
   "cell_type": "markdown",
   "metadata": {},
   "source": [
    "## Top Songs UK\n",
    "\n",
    "### Get Track Names"
   ]
  },
  {
   "cell_type": "code",
   "execution_count": 12,
   "metadata": {},
   "outputs": [
    {
     "name": "stdout",
     "output_type": "stream",
     "text": [
      "[('Dave', 'Sprinter'), ('Billie Eilish', 'What Was I Made For?'), ('Dua Lipa', 'Dance The Night'), ('Olivia Rodrigo', 'vampire'), ('Nicki Minaj', 'Barbie World')]\n"
     ]
    }
   ],
   "source": [
    "top_five_uk = get_top_five('37i9dQZEVXbMwmF30ppw50')\n",
    "print(top_five_uk)"
   ]
  },
  {
   "cell_type": "markdown",
   "metadata": {},
   "source": [
    "### Get Lyrics"
   ]
  },
  {
   "cell_type": "code",
   "execution_count": 13,
   "metadata": {},
   "outputs": [
    {
     "name": "stdout",
     "output_type": "stream",
     "text": [
      "Searching for \"Sprinter\" by Dave...\n",
      "Done.\n",
      "Searching for \"What Was I Made For?\" by Billie Eilish...\n",
      "Done.\n",
      "Searching for \"Dance The Night\" by Dua Lipa...\n",
      "Done.\n",
      "Searching for \"vampire\" by Olivia Rodrigo...\n",
      "Done.\n",
      "Searching for \"Barbie World\" by Nicki Minaj...\n",
      "Done.\n"
     ]
    }
   ],
   "source": [
    "for artist, song in top_five_uk:\n",
    "    get_song_lyrics(song, artist)"
   ]
  },
  {
   "cell_type": "markdown",
   "metadata": {},
   "source": [
    "### Sentiment Analysis"
   ]
  },
  {
   "cell_type": "code",
   "execution_count": 15,
   "metadata": {},
   "outputs": [
    {
     "name": "stdout",
     "output_type": "stream",
     "text": [
      "[-0.04633838383838384, 0.09930555555555556, 0.29214285714285715, -0.0877513227513227, -0.17378787878787874]\n"
     ]
    }
   ],
   "source": [
    "top_five_uk_polarity = [get_polarity_score(song) for artist, song in top_five_uk]\n",
    "print(top_five_uk_polarity)"
   ]
  },
  {
   "cell_type": "markdown",
   "metadata": {},
   "source": [
    "## Top Songs Canada\n",
    "\n",
    "### Get Track Names"
   ]
  },
  {
   "cell_type": "code",
   "execution_count": 16,
   "metadata": {},
   "outputs": [
    {
     "name": "stdout",
     "output_type": "stream",
     "text": [
      "[('Travis Scott', 'MELTDOWN'), ('Gunna', 'fukumean'), ('Travis Scott', 'FE!N'), ('Morgan Wallen', 'Last Night'), ('Nicki Minaj', 'Barbie World')]\n"
     ]
    }
   ],
   "source": [
    "top_five_canada = get_top_five('37i9dQZEVXbMda2apknTqH')\n",
    "print(top_five_canada)"
   ]
  },
  {
   "cell_type": "markdown",
   "metadata": {},
   "source": [
    "### Get Lyrics"
   ]
  },
  {
   "cell_type": "code",
   "execution_count": 17,
   "metadata": {},
   "outputs": [
    {
     "name": "stdout",
     "output_type": "stream",
     "text": [
      "Searching for \"MELTDOWN\" by Travis Scott...\n",
      "Done.\n",
      "Searching for \"fukumean\" by Gunna...\n",
      "Done.\n",
      "Searching for \"FE!N\" by Travis Scott...\n",
      "Done.\n",
      "Searching for \"Last Night\" by Morgan Wallen...\n",
      "Done.\n",
      "Searching for \"Barbie World\" by Nicki Minaj...\n",
      "Done.\n"
     ]
    }
   ],
   "source": [
    "for artist, song in top_five_canada:\n",
    "    get_song_lyrics(song, artist)"
   ]
  },
  {
   "cell_type": "markdown",
   "metadata": {},
   "source": [
    "### Sentiment Analysis"
   ]
  },
  {
   "cell_type": "code",
   "execution_count": 18,
   "metadata": {},
   "outputs": [
    {
     "name": "stdout",
     "output_type": "stream",
     "text": [
      "[-0.16178026834276832, -0.000502953119232195, -0.08304473304473305, 0.05311224489795918, -0.17378787878787874]\n"
     ]
    }
   ],
   "source": [
    "top_five_canada_polarity = [get_polarity_score(song) for artist, song in top_five_canada]\n",
    "print(top_five_canada_polarity)"
   ]
  },
  {
   "cell_type": "markdown",
   "metadata": {},
   "source": [
    "## Top Songs Australia\n",
    "\n",
    "### Get Track Names"
   ]
  },
  {
   "cell_type": "code",
   "execution_count": 19,
   "metadata": {},
   "outputs": [
    {
     "name": "stdout",
     "output_type": "stream",
     "text": [
      "[('Dave', 'Sprinter'), ('Billie Eilish', 'What Was I Made For?'), ('Nicki Minaj', 'Barbie World'), ('Olivia Rodrigo', 'vampire'), ('Dua Lipa', 'Dance The Night')]\n"
     ]
    }
   ],
   "source": [
    "top_five_australia = get_top_five('37i9dQZEVXbK4fwx2r07XW')\n",
    "print(top_five_australia)"
   ]
  },
  {
   "cell_type": "markdown",
   "metadata": {},
   "source": [
    "### Get Lyrics"
   ]
  },
  {
   "cell_type": "code",
   "execution_count": 20,
   "metadata": {},
   "outputs": [
    {
     "name": "stdout",
     "output_type": "stream",
     "text": [
      "Searching for \"Sprinter\" by Dave...\n",
      "Done.\n",
      "Searching for \"What Was I Made For?\" by Billie Eilish...\n",
      "Done.\n",
      "Searching for \"Barbie World\" by Nicki Minaj...\n",
      "Done.\n",
      "Searching for \"vampire\" by Olivia Rodrigo...\n",
      "Done.\n",
      "Searching for \"Dance The Night\" by Dua Lipa...\n",
      "Done.\n"
     ]
    }
   ],
   "source": [
    "for artist, song in top_five_australia:\n",
    "    get_song_lyrics(song, artist)"
   ]
  },
  {
   "cell_type": "markdown",
   "metadata": {},
   "source": [
    "### Sentiment Analysis"
   ]
  },
  {
   "cell_type": "code",
   "execution_count": 21,
   "metadata": {},
   "outputs": [
    {
     "name": "stdout",
     "output_type": "stream",
     "text": [
      "[-0.04633838383838384, 0.09930555555555556, -0.17378787878787874, -0.0877513227513227, 0.29214285714285715]\n"
     ]
    }
   ],
   "source": [
    "top_five_australia_polarity = [get_polarity_score(song) for artist, song in top_five_australia]\n",
    "print(top_five_australia_polarity)"
   ]
  },
  {
   "cell_type": "markdown",
   "metadata": {},
   "source": [
    "## Playlist Comparison"
   ]
  },
  {
   "cell_type": "code",
   "execution_count": 136,
   "metadata": {},
   "outputs": [
    {
     "data": {
      "text/html": [
       "<div>\n",
       "<style scoped>\n",
       "    .dataframe tbody tr th:only-of-type {\n",
       "        vertical-align: middle;\n",
       "    }\n",
       "\n",
       "    .dataframe tbody tr th {\n",
       "        vertical-align: top;\n",
       "    }\n",
       "\n",
       "    .dataframe thead th {\n",
       "        text-align: right;\n",
       "    }\n",
       "</style>\n",
       "<table border=\"1\" class=\"dataframe\">\n",
       "  <thead>\n",
       "    <tr style=\"text-align: right;\">\n",
       "      <th></th>\n",
       "      <th>t1</th>\n",
       "      <th>p1</th>\n",
       "      <th>t2</th>\n",
       "      <th>p2</th>\n",
       "      <th>t3</th>\n",
       "      <th>p3</th>\n",
       "      <th>t4</th>\n",
       "      <th>p4</th>\n",
       "      <th>t5</th>\n",
       "      <th>p5</th>\n",
       "    </tr>\n",
       "  </thead>\n",
       "  <tbody>\n",
       "    <tr>\n",
       "      <th>Global</th>\n",
       "      <td>(Jung Kook, Seven)</td>\n",
       "      <td>0.155952</td>\n",
       "      <td>(Myke Towers, LALA)</td>\n",
       "      <td>0.116667</td>\n",
       "      <td>(Travis Scott, MELTDOWN)</td>\n",
       "      <td>-0.161780</td>\n",
       "      <td>(Billie Eilish, What Was I Made For?)</td>\n",
       "      <td>0.099306</td>\n",
       "      <td>(Travis Scott, FE!N)</td>\n",
       "      <td>-0.083045</td>\n",
       "    </tr>\n",
       "    <tr>\n",
       "      <th>USA</th>\n",
       "      <td>(Travis Scott, MELTDOWN)</td>\n",
       "      <td>-0.161780</td>\n",
       "      <td>(Travis Scott, FE!N)</td>\n",
       "      <td>-0.083045</td>\n",
       "      <td>(Travis Scott, I KNOW ?)</td>\n",
       "      <td>0.004029</td>\n",
       "      <td>(Travis Scott, HYAENA)</td>\n",
       "      <td>0.101829</td>\n",
       "      <td>(Gunna, fukumean)</td>\n",
       "      <td>-0.000503</td>\n",
       "    </tr>\n",
       "    <tr>\n",
       "      <th>UK</th>\n",
       "      <td>(Dave, Sprinter)</td>\n",
       "      <td>-0.046338</td>\n",
       "      <td>(Billie Eilish, What Was I Made For?)</td>\n",
       "      <td>0.099306</td>\n",
       "      <td>(Dua Lipa, Dance The Night)</td>\n",
       "      <td>0.292143</td>\n",
       "      <td>(Olivia Rodrigo, vampire)</td>\n",
       "      <td>-0.087751</td>\n",
       "      <td>(Nicki Minaj, Barbie World)</td>\n",
       "      <td>-0.173788</td>\n",
       "    </tr>\n",
       "    <tr>\n",
       "      <th>Canada</th>\n",
       "      <td>(Travis Scott, MELTDOWN)</td>\n",
       "      <td>-0.161780</td>\n",
       "      <td>(Gunna, fukumean)</td>\n",
       "      <td>-0.000503</td>\n",
       "      <td>(Travis Scott, FE!N)</td>\n",
       "      <td>-0.083045</td>\n",
       "      <td>(Morgan Wallen, Last Night)</td>\n",
       "      <td>0.053112</td>\n",
       "      <td>(Nicki Minaj, Barbie World)</td>\n",
       "      <td>-0.173788</td>\n",
       "    </tr>\n",
       "    <tr>\n",
       "      <th>Australia</th>\n",
       "      <td>(Dave, Sprinter)</td>\n",
       "      <td>-0.046338</td>\n",
       "      <td>(Billie Eilish, What Was I Made For?)</td>\n",
       "      <td>0.099306</td>\n",
       "      <td>(Nicki Minaj, Barbie World)</td>\n",
       "      <td>-0.173788</td>\n",
       "      <td>(Olivia Rodrigo, vampire)</td>\n",
       "      <td>-0.087751</td>\n",
       "      <td>(Dua Lipa, Dance The Night)</td>\n",
       "      <td>0.292143</td>\n",
       "    </tr>\n",
       "  </tbody>\n",
       "</table>\n",
       "</div>"
      ],
      "text/plain": [
       "                                 t1        p1  \\\n",
       "Global           (Jung Kook, Seven)  0.155952   \n",
       "USA        (Travis Scott, MELTDOWN) -0.161780   \n",
       "UK                 (Dave, Sprinter) -0.046338   \n",
       "Canada     (Travis Scott, MELTDOWN) -0.161780   \n",
       "Australia          (Dave, Sprinter) -0.046338   \n",
       "\n",
       "                                              t2        p2  \\\n",
       "Global                       (Myke Towers, LALA)  0.116667   \n",
       "USA                         (Travis Scott, FE!N) -0.083045   \n",
       "UK         (Billie Eilish, What Was I Made For?)  0.099306   \n",
       "Canada                         (Gunna, fukumean) -0.000503   \n",
       "Australia  (Billie Eilish, What Was I Made For?)  0.099306   \n",
       "\n",
       "                                    t3        p3  \\\n",
       "Global        (Travis Scott, MELTDOWN) -0.161780   \n",
       "USA           (Travis Scott, I KNOW ?)  0.004029   \n",
       "UK         (Dua Lipa, Dance The Night)  0.292143   \n",
       "Canada            (Travis Scott, FE!N) -0.083045   \n",
       "Australia  (Nicki Minaj, Barbie World) -0.173788   \n",
       "\n",
       "                                              t4        p4  \\\n",
       "Global     (Billie Eilish, What Was I Made For?)  0.099306   \n",
       "USA                       (Travis Scott, HYAENA)  0.101829   \n",
       "UK                     (Olivia Rodrigo, vampire) -0.087751   \n",
       "Canada               (Morgan Wallen, Last Night)  0.053112   \n",
       "Australia              (Olivia Rodrigo, vampire) -0.087751   \n",
       "\n",
       "                                    t5        p5  \n",
       "Global            (Travis Scott, FE!N) -0.083045  \n",
       "USA                  (Gunna, fukumean) -0.000503  \n",
       "UK         (Nicki Minaj, Barbie World) -0.173788  \n",
       "Canada     (Nicki Minaj, Barbie World) -0.173788  \n",
       "Australia  (Dua Lipa, Dance The Night)  0.292143  "
      ]
     },
     "execution_count": 136,
     "metadata": {},
     "output_type": "execute_result"
    }
   ],
   "source": [
    "# Create DataFrame \n",
    "polarities = [top_five_global_polarity, top_five_usa_polarity, top_five_uk_polarity, top_five_canada_polarity, top_five_australia_polarity]\n",
    "tracks = [top_five_global, top_five_usa, top_five_uk, top_five_canada, top_five_australia]\n",
    "playlists = ['Global', 'USA', 'UK', 'Canada', 'Australia']\n",
    "\n",
    "row_entries = []\n",
    "for track_list, polarity_list in list(zip(tracks, polarities)):\n",
    "    row_entry = []\n",
    "    for track, polarity in list(zip(track_list, polarity_list)):\n",
    "        row_entry.append(track)\n",
    "        row_entry.append(polarity)\n",
    "    row_entries.append(row_entry)\n",
    "\n",
    "df = pd.DataFrame(row_entries, index = playlists, columns = ['t1', 'p1', 't2', 'p2', 't3', 'p3', 't4', 'p4', 't5', 'p5'])\n",
    "\n",
    "df"
   ]
  },
  {
   "cell_type": "code",
   "execution_count": 140,
   "metadata": {},
   "outputs": [
    {
     "data": {
      "text/html": [
       "<div>\n",
       "<style scoped>\n",
       "    .dataframe tbody tr th:only-of-type {\n",
       "        vertical-align: middle;\n",
       "    }\n",
       "\n",
       "    .dataframe tbody tr th {\n",
       "        vertical-align: top;\n",
       "    }\n",
       "\n",
       "    .dataframe thead th {\n",
       "        text-align: right;\n",
       "    }\n",
       "</style>\n",
       "<table border=\"1\" class=\"dataframe\">\n",
       "  <thead>\n",
       "    <tr style=\"text-align: right;\">\n",
       "      <th></th>\n",
       "      <th>t1</th>\n",
       "      <th>p1</th>\n",
       "      <th>t2</th>\n",
       "      <th>p2</th>\n",
       "      <th>t3</th>\n",
       "      <th>p3</th>\n",
       "      <th>t4</th>\n",
       "      <th>p4</th>\n",
       "      <th>t5</th>\n",
       "      <th>p5</th>\n",
       "    </tr>\n",
       "  </thead>\n",
       "  <tbody>\n",
       "    <tr>\n",
       "      <th>count</th>\n",
       "      <td>5</td>\n",
       "      <td>5.000000</td>\n",
       "      <td>5</td>\n",
       "      <td>5.000000</td>\n",
       "      <td>5</td>\n",
       "      <td>5.000000</td>\n",
       "      <td>5</td>\n",
       "      <td>5.000000</td>\n",
       "      <td>5</td>\n",
       "      <td>5.000000</td>\n",
       "    </tr>\n",
       "    <tr>\n",
       "      <th>unique</th>\n",
       "      <td>3</td>\n",
       "      <td>NaN</td>\n",
       "      <td>4</td>\n",
       "      <td>NaN</td>\n",
       "      <td>5</td>\n",
       "      <td>NaN</td>\n",
       "      <td>4</td>\n",
       "      <td>NaN</td>\n",
       "      <td>4</td>\n",
       "      <td>NaN</td>\n",
       "    </tr>\n",
       "    <tr>\n",
       "      <th>top</th>\n",
       "      <td>(Travis Scott, MELTDOWN)</td>\n",
       "      <td>NaN</td>\n",
       "      <td>(Billie Eilish, What Was I Made For?)</td>\n",
       "      <td>NaN</td>\n",
       "      <td>(Travis Scott, MELTDOWN)</td>\n",
       "      <td>NaN</td>\n",
       "      <td>(Olivia Rodrigo, vampire)</td>\n",
       "      <td>NaN</td>\n",
       "      <td>(Nicki Minaj, Barbie World)</td>\n",
       "      <td>NaN</td>\n",
       "    </tr>\n",
       "    <tr>\n",
       "      <th>freq</th>\n",
       "      <td>2</td>\n",
       "      <td>NaN</td>\n",
       "      <td>2</td>\n",
       "      <td>NaN</td>\n",
       "      <td>1</td>\n",
       "      <td>NaN</td>\n",
       "      <td>2</td>\n",
       "      <td>NaN</td>\n",
       "      <td>2</td>\n",
       "      <td>NaN</td>\n",
       "    </tr>\n",
       "    <tr>\n",
       "      <th>mean</th>\n",
       "      <td>NaN</td>\n",
       "      <td>-0.052057</td>\n",
       "      <td>NaN</td>\n",
       "      <td>0.046346</td>\n",
       "      <td>NaN</td>\n",
       "      <td>-0.024488</td>\n",
       "      <td>NaN</td>\n",
       "      <td>0.015749</td>\n",
       "      <td>NaN</td>\n",
       "      <td>-0.027796</td>\n",
       "    </tr>\n",
       "    <tr>\n",
       "      <th>std</th>\n",
       "      <td>NaN</td>\n",
       "      <td>0.129819</td>\n",
       "      <td>NaN</td>\n",
       "      <td>0.085865</td>\n",
       "      <td>NaN</td>\n",
       "      <td>0.190812</td>\n",
       "      <td>NaN</td>\n",
       "      <td>0.096452</td>\n",
       "      <td>NaN</td>\n",
       "      <td>0.192864</td>\n",
       "    </tr>\n",
       "    <tr>\n",
       "      <th>min</th>\n",
       "      <td>NaN</td>\n",
       "      <td>-0.161780</td>\n",
       "      <td>NaN</td>\n",
       "      <td>-0.083045</td>\n",
       "      <td>NaN</td>\n",
       "      <td>-0.173788</td>\n",
       "      <td>NaN</td>\n",
       "      <td>-0.087751</td>\n",
       "      <td>NaN</td>\n",
       "      <td>-0.173788</td>\n",
       "    </tr>\n",
       "    <tr>\n",
       "      <th>25%</th>\n",
       "      <td>NaN</td>\n",
       "      <td>-0.161780</td>\n",
       "      <td>NaN</td>\n",
       "      <td>-0.000503</td>\n",
       "      <td>NaN</td>\n",
       "      <td>-0.161780</td>\n",
       "      <td>NaN</td>\n",
       "      <td>-0.087751</td>\n",
       "      <td>NaN</td>\n",
       "      <td>-0.173788</td>\n",
       "    </tr>\n",
       "    <tr>\n",
       "      <th>50%</th>\n",
       "      <td>NaN</td>\n",
       "      <td>-0.046338</td>\n",
       "      <td>NaN</td>\n",
       "      <td>0.099306</td>\n",
       "      <td>NaN</td>\n",
       "      <td>-0.083045</td>\n",
       "      <td>NaN</td>\n",
       "      <td>0.053112</td>\n",
       "      <td>NaN</td>\n",
       "      <td>-0.083045</td>\n",
       "    </tr>\n",
       "    <tr>\n",
       "      <th>75%</th>\n",
       "      <td>NaN</td>\n",
       "      <td>-0.046338</td>\n",
       "      <td>NaN</td>\n",
       "      <td>0.099306</td>\n",
       "      <td>NaN</td>\n",
       "      <td>0.004029</td>\n",
       "      <td>NaN</td>\n",
       "      <td>0.099306</td>\n",
       "      <td>NaN</td>\n",
       "      <td>-0.000503</td>\n",
       "    </tr>\n",
       "    <tr>\n",
       "      <th>max</th>\n",
       "      <td>NaN</td>\n",
       "      <td>0.155952</td>\n",
       "      <td>NaN</td>\n",
       "      <td>0.116667</td>\n",
       "      <td>NaN</td>\n",
       "      <td>0.292143</td>\n",
       "      <td>NaN</td>\n",
       "      <td>0.101829</td>\n",
       "      <td>NaN</td>\n",
       "      <td>0.292143</td>\n",
       "    </tr>\n",
       "  </tbody>\n",
       "</table>\n",
       "</div>"
      ],
      "text/plain": [
       "                              t1        p1  \\\n",
       "count                          5  5.000000   \n",
       "unique                         3       NaN   \n",
       "top     (Travis Scott, MELTDOWN)       NaN   \n",
       "freq                           2       NaN   \n",
       "mean                         NaN -0.052057   \n",
       "std                          NaN  0.129819   \n",
       "min                          NaN -0.161780   \n",
       "25%                          NaN -0.161780   \n",
       "50%                          NaN -0.046338   \n",
       "75%                          NaN -0.046338   \n",
       "max                          NaN  0.155952   \n",
       "\n",
       "                                           t2        p2  \\\n",
       "count                                       5  5.000000   \n",
       "unique                                      4       NaN   \n",
       "top     (Billie Eilish, What Was I Made For?)       NaN   \n",
       "freq                                        2       NaN   \n",
       "mean                                      NaN  0.046346   \n",
       "std                                       NaN  0.085865   \n",
       "min                                       NaN -0.083045   \n",
       "25%                                       NaN -0.000503   \n",
       "50%                                       NaN  0.099306   \n",
       "75%                                       NaN  0.099306   \n",
       "max                                       NaN  0.116667   \n",
       "\n",
       "                              t3        p3                         t4  \\\n",
       "count                          5  5.000000                          5   \n",
       "unique                         5       NaN                          4   \n",
       "top     (Travis Scott, MELTDOWN)       NaN  (Olivia Rodrigo, vampire)   \n",
       "freq                           1       NaN                          2   \n",
       "mean                         NaN -0.024488                        NaN   \n",
       "std                          NaN  0.190812                        NaN   \n",
       "min                          NaN -0.173788                        NaN   \n",
       "25%                          NaN -0.161780                        NaN   \n",
       "50%                          NaN -0.083045                        NaN   \n",
       "75%                          NaN  0.004029                        NaN   \n",
       "max                          NaN  0.292143                        NaN   \n",
       "\n",
       "              p4                           t5        p5  \n",
       "count   5.000000                            5  5.000000  \n",
       "unique       NaN                            4       NaN  \n",
       "top          NaN  (Nicki Minaj, Barbie World)       NaN  \n",
       "freq         NaN                            2       NaN  \n",
       "mean    0.015749                          NaN -0.027796  \n",
       "std     0.096452                          NaN  0.192864  \n",
       "min    -0.087751                          NaN -0.173788  \n",
       "25%    -0.087751                          NaN -0.173788  \n",
       "50%     0.053112                          NaN -0.083045  \n",
       "75%     0.099306                          NaN -0.000503  \n",
       "max     0.101829                          NaN  0.292143  "
      ]
     },
     "execution_count": 140,
     "metadata": {},
     "output_type": "execute_result"
    }
   ],
   "source": [
    "df.describe(include = 'all')"
   ]
  },
  {
   "cell_type": "code",
   "execution_count": 137,
   "metadata": {},
   "outputs": [
    {
     "data": {
      "image/png": "[encoded data removed]",
      "text/plain": [
       "<Figure size 640x480 with 1 Axes>"
      ]
     },
     "metadata": {},
     "output_type": "display_data"
    }
   ],
   "source": [
    "# Plot track polarity vs rank by country\n",
    "\n",
    "colors = ['black', 'green', 'blue', 'red', 'purple']\n",
    "\n",
    "for playlist, color in zip(polarities, colors):\n",
    "    plt.plot(playlist, color = color, marker = 'o')\n",
    "plt.title('Polarity of Top Five Tracks by Playlist')\n",
    "plt.xlabel('Track Rank')\n",
    "plt.ylabel('Track Polarity')\n",
    "plt.xticks(ticks = [0, 1, 2, 3, 4], labels = [1, 2, 3, 4, 5])\n",
    "plt.hlines(y = 0, xmin = 0, xmax = 4, color = 'gray', linestyles = 'dashed')\n",
    "plt.legend(playlists, bbox_to_anchor = (1.0, 1.0))\n",
    "plt.show()"
   ]
  },
  {
   "cell_type": "code",
   "execution_count": 68,
   "metadata": {},
   "outputs": [
    {
     "name": "stdout",
     "output_type": "stream",
     "text": [
      "[('Global', 0.0254), ('USA', -0.0279), ('UK', 0.0167), ('Canada', -0.0732), ('Australia', 0.0167)]\n"
     ]
    }
   ],
   "source": [
    "# Calculate average polarity for each playlist\n",
    "average_polarities = [round(np.mean(polarity_list), 4) for polarity_list in polarities]\n",
    "print(list(zip(playlists, average_polarities)))"
   ]
  },
  {
   "cell_type": "code",
   "execution_count": 84,
   "metadata": {},
   "outputs": [
    {
     "data": {
      "image/png": "[encoded data removed]",
      "text/plain": [
       "<Figure size 500x500 with 1 Axes>"
      ]
     },
     "metadata": {},
     "output_type": "display_data"
    }
   ],
   "source": [
    "# Plot average polarities\n",
    "plt.figure(figsize = (5, 5))\n",
    "plt.bar(x = playlists, height = average_polarities, color = colors)\n",
    "plt.title('Average Polarity Score by Playlist')\n",
    "plt.xlabel('Playlist')\n",
    "plt.ylabel('Average Polarity Score')\n",
    "plt.hlines(y = 0, xmin = 0, xmax = 4, color = 'gray')\n",
    "plt.show()"
   ]
  },
  {
   "cell_type": "markdown",
   "metadata": {},
   "source": [
    "## Conclusions\n",
    "\n",
    "There are 13 unique songs out of 25 tracks from the 5 playlists analyzed. The UK and Australia had the same 5 top tracks, just in a different order. The playlist with the highest average polarity score was the Top Songs Global playlist, with an average of 0.0254. The lowest average polarity score was the Top Songs Canada playlist with an average of -0.0732. Only the USA and Canada had negative average scores. Out of all five playlists, only Top Songs Global has a track with a positive polarity score in the top spot for this week. The song with the highest polarity score was \"Dance The Night\" by Dua Lipa, which appeared in both the UK and Australia playlists. The song with the lowest polarity score was \"MELTDOWN\" by Travis Scott, which appeared in the Global, USA, and Canada playlists. Travis Scott appeared in the top 5 tracks the most often at 8 times. \"What Was I Made For?\" br Billie Eilish, \"Barbie World\" by Nicki Minaj, and \"FE!N\" by Travis Scott all appeared in 3 of the 5 playlists."
   ]
  }
 ],
 "metadata": {
  "kernelspec": {
   "display_name": ".venv",
   "language": "python",
   "name": "python3"
  },
  "language_info": {
   "codemirror_mode": {
    "name": "ipython",
    "version": 3
   },
   "file_extension": ".py",
   "mimetype": "text/x-python",
   "name": "python",
   "nbconvert_exporter": "python",
   "pygments_lexer": "ipython3",
   "version": "3.11.2"
  },
  "orig_nbformat": 4
 },
 "nbformat": 4,
 "nbformat_minor": 2
}
