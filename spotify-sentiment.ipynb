{
 "cells": [
  {
   "cell_type": "markdown",
   "metadata": {},
   "source": [
    "# Spotify Sentiment Analysis with Spacy and Spacytextblob\n",
    "\n",
    "### Beth Harvey\n",
    "\n",
    "The goal of this project is to use the Spotify API and Spotipy to get the titles of the top 5 songs from Spotify's Top Songs Global playlist, along with several Top Songs playlists for specific countries. The LyricsGenius API will be used to get the lyrics for each track, then sentiment analysis will be performend on the data using spaCy. Song data will be saved in JSON files, then sentiment analysis will be done using spacy and spacy text blob. \n",
    "\n",
    "\n",
    "Installations\n",
    "* pip install -U pip setuptools wheel\n",
    "* pip install -U spacy\n",
    "* python -m spacy download en_core_web_sm\n",
    "* pip install spotipy --upgrade\n",
    "* pip install lyricsgenius\n",
    "* pip install python-dotenv"
   ]
  },
  {
   "cell_type": "code",
   "execution_count": 25,
   "metadata": {},
   "outputs": [],
   "source": [
    "# Import and confirm necessary packages\n",
    "import json\n",
    "\n",
    "import requests\n",
    "import spacy\n",
    "import os\n",
    "from spacytextblob.spacytextblob import SpacyTextBlob\n",
    "import spotipy\n",
    "from spotipy.oauth2 import SpotifyClientCredentials\n",
    "import lyricsgenius\n",
    "from dotenv import load_dotenv\n",
    "\n",
    "# print('All prereqs installed.')\n",
    "# !pip list"
   ]
  },
  {
   "cell_type": "markdown",
   "metadata": {},
   "source": [
    "### API Credentials\n",
    "Following the Spotipy instructions at https://spotipy.readthedocs.io/en/2.22.1/ I saved my Spotify client ID, client secret, and redirect URI as environment variables. They need to be loaded in as variables so they are available for use."
   ]
  },
  {
   "cell_type": "code",
   "execution_count": 8,
   "metadata": {},
   "outputs": [],
   "source": [
    "load_dotenv()\n",
    "client_id = os.getenv('SPOTIPY_CLIENT_ID')\n",
    "client_secret = os.getenv('SPOTIPY_CLIENT_SECRET')\n",
    "redirect = os.getenv('SPOTIPY_REDIRECT_URI')"
   ]
  },
  {
   "cell_type": "markdown",
   "metadata": {},
   "source": [
    "### Global Top Songs Playlist\n",
    "\n",
    "#### Get Track Names"
   ]
  },
  {
   "cell_type": "code",
   "execution_count": 26,
   "metadata": {},
   "outputs": [],
   "source": [
    "# Define function to get a list of the top 5 songs from a playlist\n",
    "def get_top_five(playlist_uri):\n",
    "    # Initialize Spotipy object\n",
    "    spotify = spotipy.Spotify(auth_manager = SpotifyClientCredentials())\n",
    "    # Get details of top 5 songs from playlist\n",
    "    top_5_songs = spotify.playlist_tracks(playlist_uri, limit = 5)\n",
    "    # Get titles of top 5 tracks\n",
    "    top_5_tracks = []\n",
    "    for track in top_5_songs[\"items\"]:\n",
    "        track_uri = track[\"track\"][\"uri\"]\n",
    "        track_name = track[\"track\"][\"name\"]\n",
    "        top_5_tracks.append(track_name)\n",
    "    return top_5_tracks\n",
    "\n",
    "# Get names of top 5 tracks from Global Top Songs\n",
    "top_five_global = get_top_five('37i9dQZEVXbNG2KDcFcKOF')\n",
    "# print(top_five_global)"
   ]
  },
  {
   "cell_type": "markdown",
   "metadata": {},
   "source": [
    "#### Get Lyrics"
   ]
  },
  {
   "cell_type": "code",
   "execution_count": null,
   "metadata": {},
   "outputs": [],
   "source": [
    "# Define function to get lyrics of a song and save as a JSON file\n",
    "def get_song_lyrics(track_name):\n",
    "    "
   ]
  }
 ],
 "metadata": {
  "kernelspec": {
   "display_name": ".venv",
   "language": "python",
   "name": "python3"
  },
  "language_info": {
   "codemirror_mode": {
    "name": "ipython",
    "version": 3
   },
   "file_extension": ".py",
   "mimetype": "text/x-python",
   "name": "python",
   "nbconvert_exporter": "python",
   "pygments_lexer": "ipython3",
   "version": "3.11.2"
  },
  "orig_nbformat": 4
 },
 "nbformat": 4,
 "nbformat_minor": 2
}
