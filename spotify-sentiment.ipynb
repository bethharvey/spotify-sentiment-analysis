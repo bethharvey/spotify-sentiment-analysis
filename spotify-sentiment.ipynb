{
 "cells": [
  {
   "cell_type": "markdown",
   "metadata": {},
   "source": [
    "# Spotify Sentiment Analysis with Spacy and Spacytextblob\n",
    "\n",
    "### Beth Harvey\n",
    "\n",
    "The goal of this project is to use the Spotify API and Spotipy to get the lyrics to the top 10 songs from Spotify's Top Songs Global playlist, then perform sentiment analysis on the data. Song data will be saved in JSON files, then sentiment analysis will be done using spacy and spacy text blob.\n",
    "\n",
    "\n",
    "Installations\n",
    "* pip install -U pip setuptools wheel\n",
    "* pip install -U spacy\n",
    "* python -m spacy download en_core_web_sm\n",
    "* pip install spotipy --upgrade"
   ]
  },
  {
   "cell_type": "code",
   "execution_count": 3,
   "metadata": {},
   "outputs": [],
   "source": [
    "# Import and confirm necessary packages\n",
    "import json\n",
    "\n",
    "import requests\n",
    "import spacy\n",
    "from spacytextblob.spacytextblob import SpacyTextBlob\n",
    "import spotipy\n",
    "\n",
    "# print('All prereqs installed.')\n",
    "# !pip list"
   ]
  },
  {
   "cell_type": "markdown",
   "metadata": {},
   "source": []
  }
 ],
 "metadata": {
  "kernelspec": {
   "display_name": ".venv",
   "language": "python",
   "name": "python3"
  },
  "language_info": {
   "codemirror_mode": {
    "name": "ipython",
    "version": 3
   },
   "file_extension": ".py",
   "mimetype": "text/x-python",
   "name": "python",
   "nbconvert_exporter": "python",
   "pygments_lexer": "ipython3",
   "version": "3.11.2"
  },
  "orig_nbformat": 4
 },
 "nbformat": 4,
 "nbformat_minor": 2
}
